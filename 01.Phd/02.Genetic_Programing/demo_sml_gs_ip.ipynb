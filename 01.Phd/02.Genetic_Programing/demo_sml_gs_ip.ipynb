{
 "cells": [
  {
   "cell_type": "markdown",
   "id": "1dd2552b",
   "metadata": {},
   "source": [
    "# Solving supervised machine learning problems (from the perspective of inductive programming).\n",
    "Inductive program synthesis (aka inductive programming) is a subfield in the program synthesis that studies program generation from incomplete information, namely from the examples for the desired input/output behavior of the program. Genetic programming (GP) is one of the numerous approaches for the inductive synthesis characterized by performing the search in the space of syntactically correct programs of a given programming language.\n",
    "\n",
    "In the context of supervised machine learning (SML) problem-solving, one can define the task of a GP algorithm as the program/function induction from input/output examples that identifies the mapping $f:S\\mapsto R$ in the best possible way, generally measured through solution’s generalization ability on previously unseen data.\n",
    "\n",
    "Geometric Semantic Genetic Programming (GSGP) is a variant of GP where the standard crossover and mutation operators are replaced by the so-called Geometric Semantic Operators (GSOs).\n",
    "\n",
    "## SMLGS problem type.\n",
    "Given the definitions provided above and in order to make it possible to perform automatic induction of programs from the input/output-examples, we have conceptualized a module called ``inductive_programming`` which contains different problem types, materialized as classes. One of them, called ``SMLGS``, a subclass of ``Problem``, aims at supporting the SML problem-solving, more specifically the symbolic regression and binary classification, by means of GSGP.\n",
    "\n",
    "\n",
    "<img src=\"https://media.springernature.com/original/springer-static/image/chp%3A10.1007%2F978-3-319-44003-3_1/MediaObjects/393665_1_En_1_Fig6_HTML.gif\" alt=\"Drawing\" style=\"width: 300px;\"/>"
   ]
  },
  {
   "cell_type": "markdown",
   "id": "1804c728",
   "metadata": {},
   "source": [
    "# 1. Create an instance of ``SMLGS``"
   ]
  },
  {
   "cell_type": "code",
   "execution_count": 3,
   "id": "f752cc6a",
   "metadata": {
    "collapsed": true,
    "jupyter": {
     "outputs_hidden": true
    }
   },
   "outputs": [
    {
     "name": "stdout",
     "output_type": "stream",
     "text": [
      "Looking in indexes: https://pypi.org/simple, https://pip.repos.neuron.amazonaws.com\n",
      "Collecting torch\n",
      "  Downloading torch-2.0.1-cp38-cp38-manylinux1_x86_64.whl (619.9 MB)\n",
      "\u001b[2K     \u001b[90m━━━━━━━━━━━━━━━━━━━━━━━━━━━━━━━━━━━━━━━\u001b[0m \u001b[32m619.9/619.9 MB\u001b[0m \u001b[31m1.3 MB/s\u001b[0m eta \u001b[36m0:00:00\u001b[0m00:01\u001b[0m00:01\u001b[0m\n",
      "\u001b[?25hCollecting nvidia-cufft-cu11==10.9.0.58\n",
      "  Downloading nvidia_cufft_cu11-10.9.0.58-py3-none-manylinux1_x86_64.whl (168.4 MB)\n",
      "\u001b[2K     \u001b[90m━━━━━━━━━━━━━━━━━━━━━━━━━━━━━━━━━━━━━━━\u001b[0m \u001b[32m168.4/168.4 MB\u001b[0m \u001b[31m6.1 MB/s\u001b[0m eta \u001b[36m0:00:00\u001b[0m00:01\u001b[0m00:01\u001b[0m\n",
      "\u001b[?25hCollecting nvidia-cusparse-cu11==11.7.4.91\n",
      "  Downloading nvidia_cusparse_cu11-11.7.4.91-py3-none-manylinux1_x86_64.whl (173.2 MB)\n",
      "\u001b[2K     \u001b[90m━━━━━━━━━━━━━━━━━━━━━━━━━━━━━━━━━━━━━━━\u001b[0m \u001b[32m173.2/173.2 MB\u001b[0m \u001b[31m4.0 MB/s\u001b[0m eta \u001b[36m0:00:00\u001b[0m00:01\u001b[0m00:01\u001b[0m\n",
      "\u001b[?25hCollecting nvidia-cuda-cupti-cu11==11.7.101\n",
      "  Downloading nvidia_cuda_cupti_cu11-11.7.101-py3-none-manylinux1_x86_64.whl (11.8 MB)\n",
      "\u001b[2K     \u001b[90m━━━━━━━━━━━━━━━━━━━━━━━━━━━━━━━━━━━━━━━━\u001b[0m \u001b[32m11.8/11.8 MB\u001b[0m \u001b[31m49.5 MB/s\u001b[0m eta \u001b[36m0:00:00\u001b[0m00:01\u001b[0m00:01\u001b[0m\n",
      "\u001b[?25hCollecting nvidia-cuda-nvrtc-cu11==11.7.99\n",
      "  Downloading nvidia_cuda_nvrtc_cu11-11.7.99-2-py3-none-manylinux1_x86_64.whl (21.0 MB)\n",
      "\u001b[2K     \u001b[90m━━━━━━━━━━━━━━━━━━━━━━━━━━━━━━━━━━━━━━━━\u001b[0m \u001b[32m21.0/21.0 MB\u001b[0m \u001b[31m33.8 MB/s\u001b[0m eta \u001b[36m0:00:00\u001b[0m00:01\u001b[0m00:01\u001b[0m\n",
      "\u001b[?25hCollecting nvidia-nvtx-cu11==11.7.91\n",
      "  Downloading nvidia_nvtx_cu11-11.7.91-py3-none-manylinux1_x86_64.whl (98 kB)\n",
      "\u001b[2K     \u001b[90m━━━━━━━━━━━━━━━━━━━━━━━━━━━━━━━━━━━━━━━━\u001b[0m \u001b[32m98.6/98.6 kB\u001b[0m \u001b[31m14.5 MB/s\u001b[0m eta \u001b[36m0:00:00\u001b[0m\n",
      "\u001b[?25hCollecting nvidia-cublas-cu11==11.10.3.66\n",
      "  Downloading nvidia_cublas_cu11-11.10.3.66-py3-none-manylinux1_x86_64.whl (317.1 MB)\n",
      "\u001b[2K     \u001b[90m━━━━━━━━━━━━━━━━━━━━━━━━━━━━━━━━━━━━━━━\u001b[0m \u001b[32m317.1/317.1 MB\u001b[0m \u001b[31m1.9 MB/s\u001b[0m eta \u001b[36m0:00:00\u001b[0m00:01\u001b[0m00:01\u001b[0m\n",
      "\u001b[?25hCollecting nvidia-cudnn-cu11==8.5.0.96\n",
      "  Downloading nvidia_cudnn_cu11-8.5.0.96-2-py3-none-manylinux1_x86_64.whl (557.1 MB)\n",
      "\u001b[2K     \u001b[90m━━━━━━━━━━━━━━━━━━━━━━━━━━━━━━━━━━━━━━━\u001b[0m \u001b[32m557.1/557.1 MB\u001b[0m \u001b[31m1.2 MB/s\u001b[0m eta \u001b[36m0:00:00\u001b[0m00:01\u001b[0m00:01\u001b[0m\n",
      "\u001b[?25hCollecting nvidia-curand-cu11==10.2.10.91\n",
      "  Downloading nvidia_curand_cu11-10.2.10.91-py3-none-manylinux1_x86_64.whl (54.6 MB)\n",
      "\u001b[2K     \u001b[90m━━━━━━━━━━━━━━━━━━━━━━━━━━━━━━━━━━━━━━━━\u001b[0m \u001b[32m54.6/54.6 MB\u001b[0m \u001b[31m17.1 MB/s\u001b[0m eta \u001b[36m0:00:00\u001b[0m00:01\u001b[0m00:01\u001b[0m\n",
      "\u001b[?25hRequirement already satisfied: filelock in /home/ec2-user/anaconda3/envs/mxnet_p38/lib/python3.8/site-packages (from torch) (3.6.0)\n",
      "Collecting nvidia-nccl-cu11==2.14.3\n",
      "  Downloading nvidia_nccl_cu11-2.14.3-py3-none-manylinux1_x86_64.whl (177.1 MB)\n",
      "\u001b[2K     \u001b[90m━━━━━━━━━━━━━━━━━━━━━━━━━━━━━━━━━━━━━━━\u001b[0m \u001b[32m177.1/177.1 MB\u001b[0m \u001b[31m4.5 MB/s\u001b[0m eta \u001b[36m0:00:00\u001b[0m00:01\u001b[0m00:01\u001b[0m\n",
      "\u001b[?25hRequirement already satisfied: typing-extensions in /home/ec2-user/anaconda3/envs/mxnet_p38/lib/python3.8/site-packages (from torch) (4.4.0)\n",
      "Collecting triton==2.0.0\n",
      "  Downloading triton-2.0.0-1-cp38-cp38-manylinux2014_x86_64.manylinux_2_17_x86_64.whl (63.2 MB)\n",
      "\u001b[2K     \u001b[90m━━━━━━━━━━━━━━━━━━━━━━━━━━━━━━━━━━━━━━━━\u001b[0m \u001b[32m63.2/63.2 MB\u001b[0m \u001b[31m12.2 MB/s\u001b[0m eta \u001b[36m0:00:00\u001b[0m00:01\u001b[0m00:01\u001b[0m\n",
      "\u001b[?25hRequirement already satisfied: sympy in /home/ec2-user/anaconda3/envs/mxnet_p38/lib/python3.8/site-packages (from torch) (1.11.1)\n",
      "Requirement already satisfied: networkx in /home/ec2-user/anaconda3/envs/mxnet_p38/lib/python3.8/site-packages (from torch) (3.0)\n",
      "Collecting nvidia-cuda-runtime-cu11==11.7.99\n",
      "  Downloading nvidia_cuda_runtime_cu11-11.7.99-py3-none-manylinux1_x86_64.whl (849 kB)\n",
      "\u001b[2K     \u001b[90m━━━━━━━━━━━━━━━━━━━━━━━━━━━━━━━━━━━━━━\u001b[0m \u001b[32m849.3/849.3 kB\u001b[0m \u001b[31m23.3 MB/s\u001b[0m eta \u001b[36m0:00:00\u001b[0m00:01\u001b[0m\n",
      "\u001b[?25hCollecting nvidia-cusolver-cu11==11.4.0.1\n",
      "  Downloading nvidia_cusolver_cu11-11.4.0.1-2-py3-none-manylinux1_x86_64.whl (102.6 MB)\n",
      "\u001b[2K     \u001b[90m━━━━━━━━━━━━━━━━━━━━━━━━━━━━━━━━━━━━━━━\u001b[0m \u001b[32m102.6/102.6 MB\u001b[0m \u001b[31m6.0 MB/s\u001b[0m eta \u001b[36m0:00:00\u001b[0m00:01\u001b[0m00:01\u001b[0m\n",
      "\u001b[?25hRequirement already satisfied: jinja2 in /home/ec2-user/anaconda3/envs/mxnet_p38/lib/python3.8/site-packages (from torch) (3.1.2)\n",
      "Requirement already satisfied: setuptools in /home/ec2-user/anaconda3/envs/mxnet_p38/lib/python3.8/site-packages (from nvidia-cublas-cu11==11.10.3.66->torch) (65.6.3)\n",
      "Requirement already satisfied: wheel in /home/ec2-user/anaconda3/envs/mxnet_p38/lib/python3.8/site-packages (from nvidia-cublas-cu11==11.10.3.66->torch) (0.38.4)\n",
      "Collecting cmake\n",
      "  Downloading cmake-3.26.3-py2.py3-none-manylinux2014_x86_64.manylinux_2_17_x86_64.whl (24.0 MB)\n",
      "\u001b[2K     \u001b[90m━━━━━━━━━━━━━━━━━━━━━━━━━━━━━━━━━━━━━━━━\u001b[0m \u001b[32m24.0/24.0 MB\u001b[0m \u001b[31m24.7 MB/s\u001b[0m eta \u001b[36m0:00:00\u001b[0m00:01\u001b[0m00:01\u001b[0m\n",
      "\u001b[?25hCollecting lit\n",
      "  Downloading lit-16.0.5.tar.gz (138 kB)\n",
      "\u001b[2K     \u001b[90m━━━━━━━━━━━━━━━━━━━━━━━━━━━━━━━━━━━━━━━\u001b[0m \u001b[32m138.0/138.0 kB\u001b[0m \u001b[31m3.4 MB/s\u001b[0m eta \u001b[36m0:00:00\u001b[0ma \u001b[36m0:00:01\u001b[0m\n",
      "\u001b[?25h  Preparing metadata (setup.py) ... \u001b[?25ldone\n",
      "\u001b[?25hRequirement already satisfied: MarkupSafe>=2.0 in /home/ec2-user/anaconda3/envs/mxnet_p38/lib/python3.8/site-packages (from jinja2->torch) (2.1.1)\n",
      "Requirement already satisfied: mpmath>=0.19 in /home/ec2-user/anaconda3/envs/mxnet_p38/lib/python3.8/site-packages (from sympy->torch) (1.2.1)\n",
      "Building wheels for collected packages: lit\n",
      "  Building wheel for lit (setup.py) ... \u001b[?25ldone\n",
      "\u001b[?25h  Created wheel for lit: filename=lit-16.0.5-py3-none-any.whl size=88174 sha256=30c4ced6984e92a538d0604cbfcb4ad7578c8cd5c1a6fa3418e8e23e5456ac28\n",
      "  Stored in directory: /home/ec2-user/.cache/pip/wheels/e3/96/a8/f812a1b96b0d29b917ff34264533d04d1f017fa12d8223416c\n",
      "Successfully built lit\n",
      "Installing collected packages: lit, cmake, nvidia-nvtx-cu11, nvidia-nccl-cu11, nvidia-cusparse-cu11, nvidia-curand-cu11, nvidia-cufft-cu11, nvidia-cuda-runtime-cu11, nvidia-cuda-nvrtc-cu11, nvidia-cuda-cupti-cu11, nvidia-cublas-cu11, nvidia-cusolver-cu11, nvidia-cudnn-cu11, triton, torch\n",
      "Successfully installed cmake-3.26.3 lit-16.0.5 nvidia-cublas-cu11-11.10.3.66 nvidia-cuda-cupti-cu11-11.7.101 nvidia-cuda-nvrtc-cu11-11.7.99 nvidia-cuda-runtime-cu11-11.7.99 nvidia-cudnn-cu11-8.5.0.96 nvidia-cufft-cu11-10.9.0.58 nvidia-curand-cu11-10.2.10.91 nvidia-cusolver-cu11-11.4.0.1 nvidia-cusparse-cu11-11.7.4.91 nvidia-nccl-cu11-2.14.3 nvidia-nvtx-cu11-11.7.91 torch-2.0.1 triton-2.0.0\n"
     ]
    }
   ],
   "source": [
    "!pip install torch"
   ]
  },
  {
   "cell_type": "code",
   "execution_count": 28,
   "id": "60778a13",
   "metadata": {
    "collapsed": true,
    "jupyter": {
     "outputs_hidden": true
    }
   },
   "outputs": [
    {
     "name": "stdout",
     "output_type": "stream",
     "text": [
      "Looking in indexes: https://pypi.org/simple, https://pip.repos.neuron.amazonaws.com\n",
      "Collecting pandas==1.1.5\n",
      "  Using cached pandas-1.1.5-cp38-cp38-manylinux1_x86_64.whl (9.3 MB)\n",
      "Collecting numpy>=1.15.4\n",
      "  Using cached numpy-1.24.3-cp38-cp38-manylinux_2_17_x86_64.manylinux2014_x86_64.whl (17.3 MB)\n",
      "Collecting pytz>=2017.2\n",
      "  Using cached pytz-2023.3-py2.py3-none-any.whl (502 kB)\n",
      "Collecting python-dateutil>=2.7.3\n",
      "  Using cached python_dateutil-2.8.2-py2.py3-none-any.whl (247 kB)\n",
      "Collecting six>=1.5\n",
      "  Using cached six-1.16.0-py2.py3-none-any.whl (11 kB)\n",
      "Installing collected packages: pytz, six, numpy, python-dateutil, pandas\n",
      "  Attempting uninstall: pytz\n",
      "    Found existing installation: pytz 2023.3\n",
      "    Uninstalling pytz-2023.3:\n",
      "      Successfully uninstalled pytz-2023.3\n",
      "  Attempting uninstall: six\n",
      "    Found existing installation: six 1.16.0\n",
      "    Uninstalling six-1.16.0:\n",
      "      Successfully uninstalled six-1.16.0\n",
      "  Attempting uninstall: numpy\n",
      "    Found existing installation: numpy 1.19.1\n",
      "    Uninstalling numpy-1.19.1:\n",
      "      Successfully uninstalled numpy-1.19.1\n",
      "  Attempting uninstall: python-dateutil\n",
      "    Found existing installation: python-dateutil 2.8.2\n",
      "    Uninstalling python-dateutil-2.8.2:\n",
      "      Successfully uninstalled python-dateutil-2.8.2\n",
      "  Attempting uninstall: pandas\n",
      "    Found existing installation: pandas 1.1.5\n",
      "    Uninstalling pandas-1.1.5:\n",
      "      Successfully uninstalled pandas-1.1.5\n",
      "\u001b[31mERROR: pip's dependency resolver does not currently take into account all the packages that are installed. This behaviour is the source of the following dependency conflicts.\n",
      "numba 0.56.4 requires numpy<1.24,>=1.18, but you have numpy 1.24.3 which is incompatible.\n",
      "gpol 1.0.0 requires numpy==1.19.1, but you have numpy 1.24.3 which is incompatible.\u001b[0m\u001b[31m\n",
      "\u001b[0mSuccessfully installed numpy-1.24.3 pandas-1.1.5 python-dateutil-2.8.2 pytz-2023.3 six-1.16.0\n",
      "Note: you may need to restart the kernel to use updated packages.\n"
     ]
    }
   ],
   "source": [
    "pip install --force-reinstall pandas==1.1.5"
   ]
  },
  {
   "cell_type": "code",
   "execution_count": 5,
   "id": "70400de3",
   "metadata": {},
   "outputs": [
    {
     "name": "stdout",
     "output_type": "stream",
     "text": [
      "/home/ec2-user/SageMaker/Genetic_Programing/general-purpose-optimization-library\n"
     ]
    }
   ],
   "source": [
    "cd ./general-purpose-optimization-library"
   ]
  },
  {
   "cell_type": "code",
   "execution_count": 6,
   "id": "823b3524",
   "metadata": {
    "collapsed": true,
    "jupyter": {
     "outputs_hidden": true
    }
   },
   "outputs": [
    {
     "name": "stdout",
     "output_type": "stream",
     "text": [
      "Looking in indexes: https://pypi.org/simple, https://pip.repos.neuron.amazonaws.com\n",
      "Processing /home/ec2-user/SageMaker/Genetic_Programing/general-purpose-optimization-library\n",
      "  Preparing metadata (setup.py) ... \u001b[?25ldone\n",
      "\u001b[?25hRequirement already satisfied: appdirs==1.4.4 in /home/ec2-user/anaconda3/envs/mxnet_p38/lib/python3.8/site-packages (from gpol==1.0.0) (1.4.4)\n",
      "Collecting filelock==3.0.12\n",
      "  Downloading filelock-3.0.12-py3-none-any.whl (7.6 kB)\n",
      "Collecting numpy==1.19.1\n",
      "  Downloading numpy-1.19.1-cp38-cp38-manylinux2010_x86_64.whl (14.5 MB)\n",
      "\u001b[2K     \u001b[90m━━━━━━━━━━━━━━━━━━━━━━━━━━━━━━━━━━━━━━━━\u001b[0m \u001b[32m14.5/14.5 MB\u001b[0m \u001b[31m33.3 MB/s\u001b[0m eta \u001b[36m0:00:00\u001b[0m00:01\u001b[0m00:01\u001b[0m\n",
      "\u001b[?25hRequirement already satisfied: pandas==1.1.5 in /home/ec2-user/anaconda3/envs/mxnet_p38/lib/python3.8/site-packages (from gpol==1.0.0) (1.1.5)\n",
      "Collecting joblib==1.0.0\n",
      "  Downloading joblib-1.0.0-py3-none-any.whl (302 kB)\n",
      "\u001b[2K     \u001b[90m━━━━━━━━━━━━━━━━━━━━━━━━━━━━━━━━━━━━━━\u001b[0m \u001b[32m303.0/303.0 kB\u001b[0m \u001b[31m39.8 MB/s\u001b[0m eta \u001b[36m0:00:00\u001b[0m\n",
      "\u001b[?25hCollecting scipy==1.6.0\n",
      "  Downloading scipy-1.6.0-cp38-cp38-manylinux1_x86_64.whl (27.2 MB)\n",
      "\u001b[2K     \u001b[90m━━━━━━━━━━━━━━━━━━━━━━━━━━━━━━━━━━━━━━━━\u001b[0m \u001b[32m27.2/27.2 MB\u001b[0m \u001b[31m22.2 MB/s\u001b[0m eta \u001b[36m0:00:00\u001b[0m00:01\u001b[0m00:01\u001b[0m\n",
      "\u001b[?25hRequirement already satisfied: python-dateutil>=2.7.3 in /home/ec2-user/anaconda3/envs/mxnet_p38/lib/python3.8/site-packages (from pandas==1.1.5->gpol==1.0.0) (2.8.2)\n",
      "Requirement already satisfied: pytz>=2017.2 in /home/ec2-user/anaconda3/envs/mxnet_p38/lib/python3.8/site-packages (from pandas==1.1.5->gpol==1.0.0) (2023.3)\n",
      "Requirement already satisfied: six>=1.5 in /home/ec2-user/anaconda3/envs/mxnet_p38/lib/python3.8/site-packages (from python-dateutil>=2.7.3->pandas==1.1.5->gpol==1.0.0) (1.16.0)\n",
      "Building wheels for collected packages: gpol\n",
      "  Building wheel for gpol (setup.py) ... \u001b[?25lerror\n",
      "  \u001b[1;31merror\u001b[0m: \u001b[1msubprocess-exited-with-error\u001b[0m\n",
      "  \n",
      "  \u001b[31m×\u001b[0m \u001b[32mpython setup.py bdist_wheel\u001b[0m did not run successfully.\n",
      "  \u001b[31m│\u001b[0m exit code: \u001b[1;36m1\u001b[0m\n",
      "  \u001b[31m╰─>\u001b[0m \u001b[31m[23 lines of output]\u001b[0m\n",
      "  \u001b[31m   \u001b[0m running bdist_wheel\n",
      "  \u001b[31m   \u001b[0m running build\n",
      "  \u001b[31m   \u001b[0m running build_py\n",
      "  \u001b[31m   \u001b[0m /home/ec2-user/anaconda3/envs/mxnet_p38/lib/python3.8/site-packages/setuptools/command/install.py:34: SetuptoolsDeprecationWarning: setup.py install is deprecated. Use build and pip and other standards-based tools.\n",
      "  \u001b[31m   \u001b[0m   warnings.warn(\n",
      "  \u001b[31m   \u001b[0m installing to build/bdist.linux-x86_64/wheel\n",
      "  \u001b[31m   \u001b[0m running install\n",
      "  \u001b[31m   \u001b[0m running install_lib\n",
      "  \u001b[31m   \u001b[0m creating build/bdist.linux-x86_64\n",
      "  \u001b[31m   \u001b[0m creating build/bdist.linux-x86_64/wheel\n",
      "  \u001b[31m   \u001b[0m creating build/bdist.linux-x86_64/wheel/gpol\n",
      "  \u001b[31m   \u001b[0m creating build/bdist.linux-x86_64/wheel/gpol/utils\n",
      "  \u001b[31m   \u001b[0m copying build/lib/gpol/utils/utils.py -> build/bdist.linux-x86_64/wheel/gpol/utils\n",
      "  \u001b[31m   \u001b[0m creating build/bdist.linux-x86_64/wheel/gpol/utils/data\n",
      "  \u001b[31m   \u001b[0m copying build/lib/gpol/utils/data/concrete_slump.txt -> build/bdist.linux-x86_64/wheel/gpol/utils/data\n",
      "  \u001b[31m   \u001b[0m copying build/lib/gpol/utils/data/breast_cancer.txt -> build/bdist.linux-x86_64/wheel/gpol/utils/data\n",
      "  \u001b[31m   \u001b[0m copying build/lib/gpol/utils/data/parkinson_total_UPDRS.txt -> build/bdist.linux-x86_64/wheel/gpol/utils/data\n",
      "  \u001b[31m   \u001b[0m copying build/lib/gpol/utils/data/concrete_strength.txt -> build/bdist.linux-x86_64/wheel/gpol/utils/data\n",
      "  \u001b[31m   \u001b[0m copying build/lib/gpol/utils/data/boston.txt -> build/bdist.linux-x86_64/wheel/gpol/utils/data\n",
      "  \u001b[31m   \u001b[0m copying build/lib/gpol/utils/data/forest_fires.txt -> build/bdist.linux-x86_64/wheel/gpol/utils/data\n",
      "  \u001b[31m   \u001b[0m copying build/lib/gpol/utils/data/airfoil.txt -> build/bdist.linux-x86_64/wheel/gpol/utils/data\n",
      "  \u001b[31m   \u001b[0m copying build/lib/gpol/utils/data/ld50.txt -> build/bdist.linux-x86_64/wheel/gpol/utils/data\n",
      "  \u001b[31m   \u001b[0m error: [Errno 28] No space left on device\n",
      "  \u001b[31m   \u001b[0m \u001b[31m[end of output]\u001b[0m\n",
      "  \n",
      "  \u001b[1;35mnote\u001b[0m: This error originates from a subprocess, and is likely not a problem with pip.\n",
      "\u001b[31m  ERROR: Failed building wheel for gpol\u001b[0m\u001b[31m\n",
      "\u001b[0m\u001b[?25h  Running setup.py clean for gpol\n",
      "Failed to build gpol\n",
      "Installing collected packages: filelock, numpy, joblib, scipy, gpol\n",
      "  Attempting uninstall: filelock\n",
      "    Found existing installation: filelock 3.6.0\n",
      "    Uninstalling filelock-3.6.0:\n",
      "      Successfully uninstalled filelock-3.6.0\n",
      "  Attempting uninstall: numpy\n",
      "    Found existing installation: numpy 1.24.3\n",
      "    Uninstalling numpy-1.24.3:\n",
      "      Successfully uninstalled numpy-1.24.3\n",
      "  Attempting uninstall: joblib\n",
      "    Found existing installation: joblib 1.2.0\n",
      "    Uninstalling joblib-1.2.0:\n",
      "      Successfully uninstalled joblib-1.2.0\n",
      "  Attempting uninstall: scipy\n",
      "    Found existing installation: scipy 1.8.1\n",
      "    Uninstalling scipy-1.8.1:\n",
      "      Successfully uninstalled scipy-1.8.1\n",
      "  Running setup.py install for gpol ... \u001b[?25ldone\n",
      "\u001b[33m  DEPRECATION: gpol was installed using the legacy 'setup.py install' method, because a wheel could not be built for it. pip 23.1 will enforce this behaviour change. A possible replacement is to fix the wheel build issue reported above. Discussion can be found at https://github.com/pypa/pip/issues/8368\u001b[0m\u001b[33m\n",
      "\u001b[0m\u001b[31mERROR: pip's dependency resolver does not currently take into account all the packages that are installed. This behaviour is the source of the following dependency conflicts.\n",
      "tifffile 2022.10.10 requires numpy>=1.19.2, but you have numpy 1.19.1 which is incompatible.\n",
      "imageio 2.16.2 requires numpy>=1.20.0, but you have numpy 1.19.1 which is incompatible.\n",
      "astropy 5.2 requires numpy>=1.20, but you have numpy 1.19.1 which is incompatible.\u001b[0m\u001b[31m\n",
      "\u001b[0m\u001b[?25hSuccessfully installed filelock-3.0.12 gpol-1.0.0 joblib-1.0.0 numpy-1.19.1 scipy-1.6.0\n"
     ]
    }
   ],
   "source": [
    "!pip install ."
   ]
  },
  {
   "cell_type": "code",
   "execution_count": 7,
   "id": "788ca848",
   "metadata": {},
   "outputs": [
    {
     "name": "stdout",
     "output_type": "stream",
     "text": [
      "/home/ec2-user/SageMaker/Genetic_Programing\n"
     ]
    }
   ],
   "source": [
    "cd .."
   ]
  },
  {
   "cell_type": "markdown",
   "id": "154b55b5",
   "metadata": {},
   "source": [
    "Loads the necessary classes and functions."
   ]
  },
  {
   "cell_type": "code",
   "execution_count": 1,
   "id": "88652f20",
   "metadata": {},
   "outputs": [],
   "source": [
    "# Imports utility libraries \n",
    "import os\n",
    "import datetime\n",
    "import pandas as pd\n",
    "pd.set_option('display.max_columns', None)\n",
    "\n",
    "# Imports PyTorch\n",
    "import torch\n",
    "# Imports problems\n",
    "from gpol.problems.inductive_programming import SMLGS\n",
    "from gpol.utils.datasets import load_boston\n",
    "from gpol.utils.utils import train_test_split, rmse\n",
    "from gpol.utils.inductive_programming import function_map, prm_reconstruct_tree, _execute_tree, _get_tree_depth\n",
    "# Imports metaheuristics \n",
    "from gpol.algorithms.genetic_algorithm import GSGP\n",
    "# Imports operators\n",
    "from gpol.operators.initializers import rhh, prm_full\n",
    "from gpol.operators.selectors import prm_tournament\n",
    "from gpol.operators.variators import prm_efficient_gs_xo, prm_efficient_gs_mtn"
   ]
  },
  {
   "cell_type": "markdown",
   "id": "f9ebfda9",
   "metadata": {},
   "source": [
    "Creates an instance of ``SMLGS`` problem. The search space (*S*) of an instance of ``SMLGS`` problem consists of the following key-value pairs:\n",
    "- ``\"n_dims\"`` is the number of input features (aka input dimensions) in the underlying ``SMLGS`` problem's instance;\n",
    "- ``\"function set\"`` is the set of primitive functions;\n",
    "- ``\"constant set\"`` is the set of constants to draw terminals from;\n",
    "- ``\"p_constants\"`` is the probability of generating a constant when sampling a terminal; and\n",
    "-  ``max_init_depth`` is the trees’ maximum depth during the initialization.\n",
    "\n",
    "Besides the traditional triplet ``sspace``, ``ffunction`` and ``min_``, one has to provide the problem's instance with the input data (``X`` and ``y`` tensors), partitions' indexes (``train_indices`` and ``test_indices``), and the size of the batches (``batch_size``)."
   ]
  },
  {
   "cell_type": "code",
   "execution_count": 2,
   "id": "f8b46591",
   "metadata": {},
   "outputs": [],
   "source": [
    "# Defines the processing device and random state 's seed\n",
    "device, seed  = 'cpu', 0  # 'cuda' if torch.cuda.is_available() else 'cpu', 0\n",
    "# Loads and allocates the data on the processing device\n",
    "X, y = load_boston(X_y=True)\n",
    "X = X.to(device)\n",
    "y = y.to(device)\n",
    "# Defines parameters for the data usage\n",
    "batch_size, shuffle, p_test = 50, True, 0.3\n",
    "# Performs train/test split\n",
    "train_indices, test_indices = train_test_split(X=X, y=y, p_test=p_test, shuffle=shuffle, indices_only=True, seed=seed)"
   ]
  },
  {
   "cell_type": "code",
   "execution_count": 3,
   "id": "19b6e774",
   "metadata": {},
   "outputs": [],
   "source": [
    "device, seed  = 'cpu', 0  # 'cuda' if torch.cuda.is_available() else 'cpu', 0\n",
    "# Loads and allocates the data on the processing device\n",
    "\n",
    "df = pd.read_csv('./dataset.csv')\n",
    "df = df.fillna(0)\n",
    "df = df.drop(columns=['time_avgBetweenReceivedTxn_other', 'time_avgBetweenTxn_other', 'walletAddress', 'time_avgBetweenTxn_approval',\n",
    "                      'erc20_mostSentTokenAddress_approval', 'time_diffBetweenFirstAndLastTxn_approval', 'erc20_mostSentTokenAddress_other',\n",
    "                      'time_diffBetweenFirstAndLastTxn_other', 'erc20_mostSentTokenAddress_transfer', 'time_avgBetweenTxn_transfer', 'time_diffBetweenFirstAndLastTxn_transfer'])\n",
    "\n",
    "# creating tensor from targets_df \n",
    "y = torch.tensor(df['Target'].values)\n",
    "\n",
    "X = torch.tensor(df.iloc[:,1:-7].values)\n",
    "X = X.to(device)\n",
    "y = y.to(device)\n",
    "\n",
    "\n",
    "# Defines parameters for the data usage\n",
    "batch_size, shuffle, p_test = 50, True, 0.3\n",
    "# Performs train/test split\n",
    "train_indices, test_indices = train_test_split(X=X, y=y, p_test=p_test, shuffle=shuffle, indices_only=True, seed=seed)"
   ]
  },
  {
   "cell_type": "code",
   "execution_count": 4,
   "id": "13640fb3",
   "metadata": {},
   "outputs": [
    {
     "data": {
      "text/plain": [
       "(4914, 61)"
      ]
     },
     "execution_count": 4,
     "metadata": {},
     "output_type": "execute_result"
    }
   ],
   "source": [
    "df.shape"
   ]
  },
  {
   "cell_type": "code",
   "execution_count": 5,
   "id": "cc3eb529",
   "metadata": {},
   "outputs": [
    {
     "data": {
      "text/plain": [
       "tensor([[  5.,   0.,   1.,  ..., 106.,   3.,  40.],\n",
       "        [  1.,   0.,   1.,  ...,  27.,   4.,  21.],\n",
       "        [  2.,   0.,   1.,  ...,  35.,   8.,  19.],\n",
       "        ...,\n",
       "        [  0.,   0.,   0.,  ...,   0.,   1.,   0.],\n",
       "        [  0.,   0.,   0.,  ...,   0.,   1.,   0.],\n",
       "        [  0.,   0.,   0.,  ...,   0.,   1.,   0.]], dtype=torch.float64)"
      ]
     },
     "execution_count": 5,
     "metadata": {},
     "output_type": "execute_result"
    }
   ],
   "source": [
    "X"
   ]
  },
  {
   "cell_type": "code",
   "execution_count": 57,
   "id": "f4f1c4da",
   "metadata": {},
   "outputs": [
    {
     "data": {
      "text/plain": [
       "0    4727\n",
       "1     187\n",
       "Name: Target, dtype: int64"
      ]
     },
     "execution_count": 57,
     "metadata": {},
     "output_type": "execute_result"
    }
   ],
   "source": [
    "df['Target'].value_counts()"
   ]
  },
  {
   "cell_type": "code",
   "execution_count": 6,
   "id": "0b6cb5e9",
   "metadata": {},
   "outputs": [],
   "source": [
    "# Characterizes the program elements: function and constant sets\n",
    "f_set = [function_map[\"add\"], function_map[\"sub\"], function_map[\"mul\"], function_map[\"div\"]]\n",
    "c_set = torch.tensor([-1.0, -0.5, 0.5, 1.0], device=device)\n",
    "# Creates the search space\n",
    "sspace = {\"n_dims\": X.shape[1], \"function_set\": f_set, \"p_constants\": 0.1, \"constant_set\": c_set, \"max_init_depth\": 5}\n",
    "# Creates problem's instance\n",
    "pi = SMLGS(sspace=sspace, ffunction=rmse, X=X, y=y, train_indices=train_indices, test_indices=test_indices,\n",
    "           batch_size=100, min_=True)"
   ]
  },
  {
   "cell_type": "markdown",
   "id": "56128c0e",
   "metadata": {},
   "source": [
    "# 2. Parametrize the GSGP algorithm."
   ]
  },
  {
   "cell_type": "markdown",
   "id": "df7a165c",
   "metadata": {},
   "source": [
    "The cell in below creates a dictionary, called ``pars``, to store GSGP-specific parameters. The mutation and crossover operators, ``prm_efficient_gs_mtn`` and ``prm_efficient_gs_xo`` respectively, were specifically designed to resemble the implementation proposed in *A C++ framework for geometric semantic genetic programming* by Castelli et al.\n",
    "\n",
    "The tensor ``ms`` represents the steps of the GSM operator; if it is a single-valued tensor, then the mutation step is always the same and equals ``ms``; if it is a vector, then, at each call of the operator, the mutation step is selected at random from ``ms``. "
   ]
  },
  {
   "cell_type": "code",
   "execution_count": 7,
   "id": "b75e8ea2",
   "metadata": {},
   "outputs": [],
   "source": [
    "# Defines population's size\n",
    "pop_size = 1000\n",
    "# Creates single trees' initializer for the GSOs\n",
    "sp_init = prm_full(sspace)  \n",
    "# Generates GSM's steps\n",
    "to, by = 1.0, 0.2  \n",
    "ms = torch.arange(by, to + by, by, device=device)\n",
    "# Defines selection's pressure and mutation's probability\n",
    "pars = {\"pop_size\": pop_size, \"initializer\": rhh, \"selector\": prm_tournament(pressure=0.1),\n",
    "        \"mutator\": prm_efficient_gs_mtn(X, sp_init, ms), \"crossover\": prm_efficient_gs_xo(X, sp_init),\n",
    "        \"p_m\": 0.5, \"p_c\": 0.5, \"elitism\": True, \"reproduction\": True}"
   ]
  },
  {
   "cell_type": "markdown",
   "id": "e3bb6250",
   "metadata": {},
   "source": [
    "### Just Crossover"
   ]
  },
  {
   "cell_type": "code",
   "execution_count": 45,
   "id": "51b85ec3",
   "metadata": {},
   "outputs": [],
   "source": [
    "# Defines population's size\n",
    "pop_size = 1000\n",
    "# Creates single trees' initializer for the GSOs\n",
    "sp_init = prm_full(sspace)  \n",
    "# Generates GSM's steps\n",
    "to, by = 5.0, 0.25  \n",
    "ms = torch.arange(by, to + by, by, device=device)\n",
    "# Defines selection's pressure and mutation's probability\n",
    "pars = {\"pop_size\": pop_size, \"initializer\": rhh, \"selector\": prm_tournament(pressure=0.1),\n",
    "        \"mutator\": prm_efficient_gs_mtn(X, sp_init, ms), \"crossover\": prm_efficient_gs_xo(X, sp_init),\n",
    "        \"p_m\": 0, \"p_c\": 0.2, \"elitism\": True, \"reproduction\": True}"
   ]
  },
  {
   "cell_type": "markdown",
   "id": "43eaa3e1",
   "metadata": {},
   "source": [
    "### Just Mutation"
   ]
  },
  {
   "cell_type": "code",
   "execution_count": null,
   "id": "78a77981",
   "metadata": {},
   "outputs": [],
   "source": []
  },
  {
   "cell_type": "markdown",
   "id": "ed0f8d3c",
   "metadata": {},
   "source": [
    "# 3. Prepares the connection strings.\n",
    "Following the implementation proposed in *A C++ framework for geometric semantic genetic programming* by Castelli et al., the initial population of trees and the intermediary random trees, generated throughout the evolution during GSOs' application, must be stored on disk. The cell in below creates the necessary paths: \n",
    "-  ``path`` is a connection string towards GSGP's main log-folder;\n",
    "-  ``path_init_pop`` is a connection string towards initial population's repository;\n",
    "-  ``path_rts`` is a connection string towards random trees' repository; and\n",
    "-  ``path_hist`` is a connection string towards the history's file (a file that stores solutions' genealogy)."
   ]
  },
  {
   "cell_type": "code",
   "execution_count": 46,
   "id": "a8f68e7f",
   "metadata": {},
   "outputs": [],
   "source": [
    "# Creates the experiment's label\n",
    "experiment_label = \"SMLGS\"  # SML approached from the perspective of Inductive Programming using GSGP\n",
    "time_id = str(datetime.datetime.now().date()) + \"_\" + str(datetime.datetime.now().hour) + \"_\" + \\\n",
    "          str(datetime.datetime.now().minute) + \"_\" + str(datetime.datetime.now().second)\n",
    "# Creates general path\n",
    "path = os.path.join(os.getcwd(), experiment_label + \"_\" + time_id)\n",
    "# Defines a connection string to store random trees\n",
    "path_rts = os.path.join(path, \"reconstruct\", \"rts\")\n",
    "if not os.path.exists(path_rts):\n",
    "    os.makedirs(path_rts)\n",
    "# Defines a connection string to store the initial population\n",
    "path_init_pop = os.path.join(path, \"reconstruct\", \"init_pop\")\n",
    "if not os.path.exists(path_init_pop):\n",
    "    os.makedirs(path_init_pop)\n",
    "# Creates a connection string towards the history's file\n",
    "path_hist = os.path.join(path, \"reconstruct\", experiment_label + \"_seed_\" + str(seed) + \"_history.csv\")"
   ]
  },
  {
   "cell_type": "markdown",
   "id": "6bd186f1",
   "metadata": {},
   "source": [
    "# 4. Executes the experiment."
   ]
  },
  {
   "cell_type": "markdown",
   "id": "44b4ef17",
   "metadata": {},
   "source": [
    "Defines the computational resources for the experiment: the number of iterations."
   ]
  },
  {
   "cell_type": "code",
   "execution_count": 47,
   "id": "8417cca7",
   "metadata": {},
   "outputs": [],
   "source": [
    "n_iter = 50"
   ]
  },
  {
   "cell_type": "markdown",
   "id": "5b92a72c",
   "metadata": {},
   "source": [
    "The code in below creates an instance of type ``GSGP`` with the aforementioned parameters. At the end of the search, the method ``write_history`` stores on disk the solutions' genealogy.\n",
    "\n",
    "Note that besides algorithm-specific parameters, the constructor of an instance of ``GSGP`` algorithm also receives:\n",
    "-  ``path_init_pop`` is path where the initial trees will be stored;\n",
    "-  ``path_rts`` is path where the random trees generated throughout the evolution will be stored;\n",
    "-  ``seed`` is used to initialize a pseudorandom number generator; and\n",
    "-  ``device`` is the specification of the processing (either CPU or GPU).\n",
    "\n",
    "The ``solve`` method has the same signature for all the search algorithms and, in this case, includes the following parameters: \n",
    "-  ``n_iter``: number of iterations to conduct the search;\n",
    "-  ``tol``: minimum required (training) fitness improvement for ``n_iter_tol`` consecutive iterations to continue the search. When the fitness is not improving by at least ``tol`` for ``n_iter_tol`` consecutive iterations, the search will be automatically interrupted;\n",
    "-  ``n_iter_tol``: maximum number of iterations to not meet ``tol`` improvement;\n",
    "-  ``test_elite``: a flag indicating whether the best-so-far solution (𝑖) should be evaluated on test partition (regards SML-OPs);\n",
    "-  ``verbose``: verbosity's detail-level;\n",
    "-  ``log``: log-files' detail-level (if exists)."
   ]
  },
  {
   "cell_type": "code",
   "execution_count": 48,
   "id": "236b07d5",
   "metadata": {},
   "outputs": [
    {
     "name": "stdout",
     "output_type": "stream",
     "text": [
      "-------------------------------------------------------------------------------------------------------\n",
      "           |                    Best solution                      |            Population            |\n",
      "-------------------------------------------------------------------------------------------------------\n",
      "Generation | Length   Fitness          Test Fitness         Timing | AVG Fitness           STD Fitness\n",
      "-------------------------------------------------------------------------------------------------------\n",
      "0          | 4914     0.141421         0.173205              0.430 | 1.17723e+11           3.72099e+12\n",
      "1          | 4914     0.141421         0.173205              2.309 | 1.52245                   1.27503\n",
      "2          | 4914     0.0876533        0.227081              1.491 | 1.38252                   1.25054\n",
      "3          | 4914     0.0876533        0.0998934             1.498 | 1.47699                   1.30273\n",
      "4          | 4914     0.0876533        0.208087              1.532 | 1.44322                   1.21771\n",
      "5          | 4914     0.0876533        0.283585              1.548 | 1.44281                   1.28752\n",
      "6          | 4914     0.0620611        0.254617              1.573 | 1.43616                   1.29481\n",
      "7          | 4914     0.0620611        0.185676              1.521 | 1.44268                   1.26678\n",
      "8          | 4914     0.0620611        0.153633              1.500 | 1.3382                    1.22496\n",
      "9          | 4914     0.0620611        0.115132              1.508 | 1.49583                   1.29836\n",
      "10         | 4914     0.0620611        0.17819               1.538 | 1.42453                   1.24966\n",
      "11         | 4914     0.0620611        0.173324              1.543 | 1.46778                   1.26494\n",
      "Algorithm: GSGP\n",
      "Best solution's fitness: 0.062\n",
      "Best solution's test fitness: 0.173\n"
     ]
    }
   ],
   "source": [
    "isa = GSGP(pi=pi, path_init_pop=path_init_pop, path_rts=path_rts, seed=seed, device=device, **pars)\n",
    "isa.solve(n_iter=n_iter, tol=0.02, n_iter_tol=5, test_elite=True, verbose=2, log=0)\n",
    "isa.write_history(path_hist)\n",
    "print(\"Algorithm: {}\".format(isa.__name__))\n",
    "print(\"Best solution's fitness: {:.3f}\".format(isa.best_sol.fit))\n",
    "print(\"Best solution's test fitness: {:.3f}\".format(isa.best_sol.test_fit))"
   ]
  },
  {
   "cell_type": "markdown",
   "id": "6b04bc1c",
   "metadata": {},
   "source": [
    "# 5. Reconstructs the tree.\n",
    "In order to reconstruct the tree, the user needs to:\n",
    "1.  read the historical records (the solutions' genealogy);\n",
    "2.  create a parametrized reconstruction function using ``prm_reconstruct_tree``. The latter receives the historical records' ``pandas.DataFrame``, the paths towards the initial and random trees, and the processing devices that was used to conduct the search.\n",
    "3.  choose the solution to reconstruct (by specifying its index);\n",
    "4.  call the reconstruction function by passing the index of the desired solution."
   ]
  },
  {
   "cell_type": "code",
   "execution_count": 49,
   "id": "ec2831c7",
   "metadata": {},
   "outputs": [
    {
     "name": "stdout",
     "output_type": "stream",
     "text": [
      "Starting index (chosen individual): 0_6_o2_xo_10924\n",
      "Individual's info:\n",
      " Iter                      6\n",
      "Operator          crossover\n",
      "T1           0_5_o2_xo_8688\n",
      "T2           0_5_o1_xo_9251\n",
      "Tr          0_6_rt_xo_10922\n",
      "ms                       -1\n",
      "Fitness           0.0620611\n",
      "Name: 0_6_o2_xo_10924, dtype: object\n",
      "Automatically reconstructed individual's representation:\n",
      " [add, mul, lf, mul, div, sub, sub, add, 10, 50, sub, 48, 9, div, div, 33, 2, div, 31, 14, div, add, sub, 5, 16, mul, 20, 40, div, div]\n"
     ]
    }
   ],
   "source": [
    "history = pd.read_csv(os.path.join(path_hist), index_col=0)\n",
    "# Creates a reconstruction function\n",
    "reconstructor = prm_reconstruct_tree(history, path_init_pop, path_rts, device)\n",
    "# Chooses the most fit individual to reconstruct\n",
    "start_idx = history[\"Fitness\"].idxmin()\n",
    "print(\"Starting index (chosen individual):\", start_idx)\n",
    "print(\"Individual's info:\\n\", history.loc[start_idx])\n",
    "# Reconstructs the individual\n",
    "ind = reconstructor(start_idx)\n",
    "print(\"Automatically reconstructed individual's representation:\\n\", ind[0:30])"
   ]
  },
  {
   "cell_type": "markdown",
   "id": "b87632dc",
   "metadata": {},
   "source": [
    "Prints individuals length and depth."
   ]
  },
  {
   "cell_type": "code",
   "execution_count": 50,
   "id": "5ae3547d",
   "metadata": {},
   "outputs": [
    {
     "name": "stdout",
     "output_type": "stream",
     "text": [
      "Length 3360\n",
      "Depth 18\n"
     ]
    }
   ],
   "source": [
    "print(\"Length\", len(ind))\n",
    "print(\"Depth\", _get_tree_depth(ind))"
   ]
  },
  {
   "cell_type": "markdown",
   "id": "62d989b1",
   "metadata": {},
   "source": [
    "Executes the reconstructed individual on the whole dataset. "
   ]
  },
  {
   "cell_type": "code",
   "execution_count": 51,
   "id": "847138c7",
   "metadata": {},
   "outputs": [
    {
     "name": "stdout",
     "output_type": "stream",
     "text": [
      "Individual's RMSE on X:  tensor(0.1581, dtype=torch.float64)\n"
     ]
    }
   ],
   "source": [
    "y_pred = _execute_tree(ind, X)\n",
    "print(\"Individual's RMSE on X: \", rmse(y, y_pred))"
   ]
  },
  {
   "cell_type": "code",
   "execution_count": 111,
   "id": "a0c542e5",
   "metadata": {},
   "outputs": [
    {
     "ename": "NameError",
     "evalue": "name 'y_pred_prob' is not defined",
     "output_type": "error",
     "traceback": [
      "\u001b[0;31m---------------------------------------------------------------------------\u001b[0m",
      "\u001b[0;31mNameError\u001b[0m                                 Traceback (most recent call last)",
      "\u001b[0;32m/tmp/ipykernel_28120/281524507.py\u001b[0m in \u001b[0;36m<cell line: 1>\u001b[0;34m()\u001b[0m\n\u001b[0;32m----> 1\u001b[0;31m \u001b[0my_pred\u001b[0m \u001b[0;34m=\u001b[0m \u001b[0;34m(\u001b[0m\u001b[0my_pred_prob\u001b[0m\u001b[0;34m>\u001b[0m\u001b[0;36m0.5\u001b[0m\u001b[0;34m)\u001b[0m\u001b[0;34m.\u001b[0m\u001b[0mfloat\u001b[0m\u001b[0;34m(\u001b[0m\u001b[0;34m)\u001b[0m\u001b[0;34m\u001b[0m\u001b[0;34m\u001b[0m\u001b[0m\n\u001b[0m",
      "\u001b[0;31mNameError\u001b[0m: name 'y_pred_prob' is not defined"
     ]
    }
   ],
   "source": [
    "y_pred = (y_pred_prob>0.5).float()"
   ]
  },
  {
   "cell_type": "code",
   "execution_count": 52,
   "id": "651981a5",
   "metadata": {},
   "outputs": [],
   "source": [
    "from sklearn.metrics import PrecisionRecallDisplay"
   ]
  },
  {
   "cell_type": "code",
   "execution_count": 53,
   "id": "7bd2096f",
   "metadata": {},
   "outputs": [
    {
     "data": {
      "image/png": "[encoded data removed]",
      "text/plain": [
       "<Figure size 640x480 with 1 Axes>"
      ]
     },
     "metadata": {},
     "output_type": "display_data"
    }
   ],
   "source": [
    "display = PrecisionRecallDisplay.from_predictions(y, y_pred,name=\"GSGP Tree\")#y_test, y_score, name=\"LinearSVC\")\n",
    "_ = display.ax_.set_title(\"2-class Precision-Recall curve\")"
   ]
  },
  {
   "cell_type": "code",
   "execution_count": 35,
   "id": "c059e853",
   "metadata": {},
   "outputs": [
    {
     "name": "stdout",
     "output_type": "stream",
     "text": [
      "F1_Score:0.5694915254237289\n",
      "Recall:0.44919786096256686\n",
      "Precision:0.7777777777777778\n"
     ]
    }
   ],
   "source": [
    "from sklearn.metrics import f1_score\n",
    "from sklearn.metrics import recall_score, precision_score\n",
    "\n",
    "y_pred_bin = (y_pred>0.5).float()\n",
    "\n",
    "print('F1_Score:' + str(f1_score(y, y_pred_bin)))\n",
    "print('Recall:' + str(recall_score(y, y_pred_bin)))\n",
    "print('Precision:' + str(precision_score(y, y_pred_bin)))"
   ]
  },
  {
   "cell_type": "markdown",
   "id": "2e300549",
   "metadata": {},
   "source": [
    "## Decision Tree test:"
   ]
  },
  {
   "cell_type": "code",
   "execution_count": 47,
   "id": "24c9f911",
   "metadata": {},
   "outputs": [
    {
     "data": {
      "text/plain": [
       "tensor([[ 0.,  0.,  0.,  ...,  0.,  0.,  1.],\n",
       "        [ 0.,  0.,  0.,  ...,  0.,  1.,  0.],\n",
       "        [ 0.,  0.,  0.,  ..., 48.,  6., 38.],\n",
       "        ...,\n",
       "        [ 2.,  0.,  1.,  ..., 32.,  2., 10.],\n",
       "        [ 0.,  0.,  0.,  ...,  0.,  1.,  0.],\n",
       "        [ 0.,  0.,  0.,  ...,  0.,  0.,  1.]], dtype=torch.float64)"
      ]
     },
     "execution_count": 47,
     "metadata": {},
     "output_type": "execute_result"
    }
   ],
   "source": [
    "X[test_indices]"
   ]
  },
  {
   "cell_type": "code",
   "execution_count": 58,
   "id": "3190b273",
   "metadata": {},
   "outputs": [],
   "source": [
    "from sklearn import tree\n",
    "\n",
    "clf = tree.DecisionTreeClassifier()\n",
    "clf = clf.fit(X[train_indices], y[train_indices])\n",
    "\n",
    "y_pred_dt = clf.predict_proba(X[test_indices])[:,1]"
   ]
  },
  {
   "cell_type": "code",
   "execution_count": 59,
   "id": "fcf1ae1c",
   "metadata": {},
   "outputs": [],
   "source": [
    "y_pred = _execute_tree(ind, X[test_indices])"
   ]
  },
  {
   "cell_type": "code",
   "execution_count": 61,
   "id": "430dd1f3",
   "metadata": {},
   "outputs": [
    {
     "name": "stdout",
     "output_type": "stream",
     "text": [
      "F1_Score:0.6391752577319588\n",
      "Recall:0.5254237288135594\n",
      "Precision:0.8157894736842105\n"
     ]
    },
    {
     "data": {
      "image/png": "[encoded data removed]",
      "text/plain": [
       "<Figure size 640x480 with 1 Axes>"
      ]
     },
     "metadata": {},
     "output_type": "display_data"
    }
   ],
   "source": [
    "display = PrecisionRecallDisplay.from_predictions(y[test_indices], y_pred,name=\"Decision Tree\")#y_test, y_score, name=\"LinearSVC\")\n",
    "_ = display.ax_.set_title(\"2-class Precision-Recall curve\")\n",
    "\n",
    "y_pred_bin = (y_pred>0.5).float()\n",
    "\n",
    "print('F1_Score:' + str(f1_score(y[test_indices], y_pred_bin)))\n",
    "print('Recall:' + str(recall_score(y[test_indices], y_pred_bin)))\n",
    "print('Precision:' + str(precision_score(y[test_indices], y_pred_bin)))"
   ]
  },
  {
   "cell_type": "code",
   "execution_count": 46,
   "id": "7d6a73aa",
   "metadata": {},
   "outputs": [
    {
     "data": {
      "image/png": "[encoded data removed]",
      "text/plain": [
       "<Figure size 640x480 with 1 Axes>"
      ]
     },
     "metadata": {},
     "output_type": "display_data"
    }
   ],
   "source": [
    "display = PrecisionRecallDisplay.from_predictions(y[test_indices], y_pred_dt,name=\"GSGP Tree\")#y_test, y_score, name=\"LinearSVC\")\n",
    "_ = display.ax_.set_title(\"2-class Precision-Recall curve\")"
   ]
  },
  {
   "cell_type": "code",
   "execution_count": null,
   "id": "ef783bf6",
   "metadata": {},
   "outputs": [],
   "source": []
  }
 ],
 "metadata": {
  "kernelspec": {
   "display_name": "conda_mxnet_p38",
   "language": "python",
   "name": "conda_mxnet_p38"
  },
  "language_info": {
   "codemirror_mode": {
    "name": "ipython",
    "version": 3
   },
   "file_extension": ".py",
   "mimetype": "text/x-python",
   "name": "python",
   "nbconvert_exporter": "python",
   "pygments_lexer": "ipython3",
   "version": "3.8.15"
  }
 },
 "nbformat": 4,
 "nbformat_minor": 5
}
