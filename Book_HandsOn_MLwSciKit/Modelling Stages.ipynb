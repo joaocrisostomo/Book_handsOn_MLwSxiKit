{
 "cells": [
  {
   "cell_type": "markdown",
   "id": "7595fb6c-2d10-4dc1-8d33-e5f1f801a48e",
   "metadata": {},
   "source": [
    "# Modelling Stages:"
   ]
  },
  {
   "cell_type": "markdown",
   "id": "9ef3ad23-ba5a-44e6-86ac-7805e8e3a95e",
   "metadata": {
    "tags": []
   },
   "source": [
    "## Stages:\n",
    "- **The Business Problem:** Normally is to optimize or do things in cost-saving manner\n",
    "- **The Machine Learning Problem:** How to ask the right questions? in order to translate the business need into a Machine Learning approach\n",
    "- **Data Collection and/or integration:** ETL Phase gathering all the different sources\n",
    "- **1. Data Preparation/pre-processing:** Prepare and/or transform the data to suits the model, to be ready for trainning\n",
    "- **2. Data Visualization/Exploration (EDA):** With histograms and scatter plots we could easly find for outliers, trends, clusters\n",
    "- **3. Feature Selection/Enginneering:** The goal is to select features that you have the least correlation between features but the maximum correlation between each features and the target\n",
    "- **4. Model Training:**\n",
    "- **5. Model Evaluation:**\n",
    "- **6. Model Deployment, integration and monitoring:** In order to dettect performance decay with time we should create a followup mechanism for the ML model metrics as ROC AUC, ACCURACY, PERCISION/RECALL"
   ]
  },
  {
   "cell_type": "markdown",
   "id": "97f787c2-76f1-44f9-9b85-9499f81cfa30",
   "metadata": {},
   "source": [
    "## 1. Data preparation/pre-processing"
   ]
  },
  {
   "cell_type": "markdown",
   "id": "73e336dd-fd09-4bd9-a9e2-dae78c38764d",
   "metadata": {},
   "source": [
    "- **missing data:** ropping the data examples with missing values or applying imputation techniques (mean, mode/frequency, median).\n",
    "- **duplicates rows and features:** \n",
    "- **data types/units**\n",
    "- **feature Scaling:** We want to ensure that our features are in the same or comparable ranges typically 0 to 1.\n",
    "    - This ensures that the model trains faster and is stable especially if we are using optimization algorithms like gradient descent. (xgboost)\n",
    "- **Balanced dataset:** When this is not possible, for skewed datasets that cannot be reasonably balanced (anomaly detection)\n",
    "    - we should use an appropriate training method and evaluation metric."
   ]
  },
  {
   "cell_type": "markdown",
   "id": "439e466c-d0c0-4104-b6cc-625ed81b309e",
   "metadata": {},
   "source": [
    "## 4. Model Trainning"
   ]
  },
  {
   "cell_type": "markdown",
   "id": "1ceb1dfe-735b-4871-984a-de38eec3de0d",
   "metadata": {},
   "source": [
    "- **Split the dataset:** into train set, cross validation or validation set and test set (model evaluation)\n",
    "- **Different Models:** should try out different potential algorithms and pick the one with the best generalization considering roc auc curve etc\n",
    "- **Validation Set:** For hyperparameter tunning."
   ]
  },
  {
   "cell_type": "markdown",
   "id": "0d025c35-55e4-4898-a073-af10314131d2",
   "metadata": {},
   "source": [
    "## 5. Model evaluation:"
   ]
  },
  {
   "attachments": {
    "645a4aa7-6aa1-4769-b053-e191a60ca16c.png": {
     "image/png": "[encoded data removed]"
    },
    "98f7aa8b-fbea-421f-85c7-bd550b97b6f8.png": {
     "image/png": "[encoded data removed]"
    }
   },
   "cell_type": "markdown",
   "id": "967ec65c-d1f9-49a6-a5b7-2b76195110cb",
   "metadata": {},
   "source": [
    "- **ROC AUC Curve:**\n",
    "- **Confusing Matrix:**\n",
    "- **Precision/Recall:** suitable for skewed classification tasks (anomaly detection type of models)\n",
    "![image.png](attachment:645a4aa7-6aa1-4769-b053-e191a60ca16c.png)\n",
    "![image.png](attachment:98f7aa8b-fbea-421f-85c7-bd550b97b6f8.png)\n",
    "    - in a case of prediction if a loan would be default - we want to maximize the recall, reduce the false negatives default clients that the prediction is not default\n",
    "- **Accuracy:** Nº correct predictions/total"
   ]
  },
  {
   "cell_type": "code",
   "execution_count": null,
   "id": "cc900c0c-ee13-41f7-ab33-b20cf7932cc5",
   "metadata": {},
   "outputs": [],
   "source": []
  }
 ],
 "metadata": {
  "kernelspec": {
   "display_name": "Python 3 (ipykernel)",
   "language": "python",
   "name": "python3"
  },
  "language_info": {
   "codemirror_mode": {
    "name": "ipython",
    "version": 3
   },
   "file_extension": ".py",
   "mimetype": "text/x-python",
   "name": "python",
   "nbconvert_exporter": "python",
   "pygments_lexer": "ipython3",
   "version": "3.9.7"
  }
 },
 "nbformat": 4,
 "nbformat_minor": 5
}
