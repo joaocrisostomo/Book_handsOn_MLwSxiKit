{
 "cells": [
  {
   "cell_type": "markdown",
   "metadata": {},
   "source": [
    "## CHAPTER 9 - Unsupervised Learning Techniques"
   ]
  },
  {
   "cell_type": "code",
   "execution_count": 4,
   "metadata": {},
   "outputs": [],
   "source": [
    "import sys\n",
    "import os\n",
    "\n",
    "from datetime import datetime, timedelta\n",
    "\n",
    "import pandas as pd\n",
    "import numpy as np\n",
    "\n",
    "import re\n",
    "import matplotlib.pyplot as plt\n",
    "import seaborn as sns\n",
    "\n",
    "pd.options.display.max_rows=500\n",
    "pd.options.display.max_columns=500"
   ]
  },
  {
   "cell_type": "code",
   "execution_count": 5,
   "metadata": {},
   "outputs": [],
   "source": [
    "from sklearn.datasets import load_iris\n",
    "\n",
    "iris = load_iris()\n",
    "X = iris.data[:,2:]\n",
    "y = iris.target"
   ]
  },
  {
   "cell_type": "code",
   "execution_count": 6,
   "metadata": {},
   "outputs": [],
   "source": [
    "from sklearn.cluster import KMeans\n",
    "\n",
    "k = 5\n",
    "kmeans = KMeans(n_clusters=k)\n",
    "y_pred = kmeans.fit_predict(X)"
   ]
  },
  {
   "cell_type": "code",
   "execution_count": 7,
   "metadata": {},
   "outputs": [
    {
     "data": {
      "text/plain": [
       "array([2, 2, 2, 2, 2, 2, 2, 2, 2, 2, 2, 2, 2, 2, 2, 2, 2, 2, 2, 2, 2, 2,\n",
       "       2, 2, 2, 2, 2, 2, 2, 2, 2, 2, 2, 2, 2, 2, 2, 2, 2, 2, 2, 2, 2, 2,\n",
       "       2, 2, 2, 2, 2, 2, 4, 4, 4, 0, 4, 4, 4, 0, 4, 0, 0, 4, 0, 4, 0, 4,\n",
       "       4, 0, 4, 0, 4, 0, 4, 4, 4, 4, 4, 4, 4, 0, 0, 0, 0, 4, 4, 4, 4, 4,\n",
       "       0, 0, 4, 4, 0, 0, 0, 0, 0, 4, 0, 0, 3, 1, 3, 1, 1, 3, 4, 3, 1, 3,\n",
       "       1, 1, 1, 1, 1, 1, 1, 3, 3, 4, 1, 1, 3, 4, 1, 3, 4, 4, 1, 1, 3, 3,\n",
       "       1, 4, 1, 3, 1, 1, 4, 1, 1, 1, 1, 3, 1, 1, 1, 1, 1, 1])"
      ]
     },
     "execution_count": 7,
     "metadata": {},
     "output_type": "execute_result"
    }
   ],
   "source": [
    "y_pred"
   ]
  },
  {
   "cell_type": "code",
   "execution_count": 8,
   "metadata": {},
   "outputs": [
    {
     "data": {
      "text/plain": [
       "True"
      ]
     },
     "execution_count": 8,
     "metadata": {},
     "output_type": "execute_result"
    }
   ],
   "source": [
    "y_pred is kmeans.labels_"
   ]
  },
  {
   "cell_type": "code",
   "execution_count": 9,
   "metadata": {},
   "outputs": [
    {
     "data": {
      "text/plain": [
       "array([[3.83181818, 1.16818182],\n",
       "       [5.39666667, 2.05333333],\n",
       "       [1.462     , 0.246     ],\n",
       "       [6.28461538, 2.13846154],\n",
       "       [4.64857143, 1.5       ]])"
      ]
     },
     "execution_count": 9,
     "metadata": {},
     "output_type": "execute_result"
    }
   ],
   "source": [
    "kmeans.cluster_centers_"
   ]
  },
  {
   "cell_type": "markdown",
   "metadata": {},
   "source": [
    "### Centroid initialization methods"
   ]
  },
  {
   "cell_type": "code",
   "execution_count": 10,
   "metadata": {},
   "outputs": [
    {
     "data": {
      "text/plain": [
       "array([[5.52489316, 4.63790422, 3.63704489, 2.69331025, 0.07720104],\n",
       "       [5.52489316, 4.63790422, 3.63704489, 2.69331025, 0.07720104]])"
      ]
     },
     "execution_count": 10,
     "metadata": {},
     "output_type": "execute_result"
    }
   ],
   "source": [
    "good_init = np.array([[-3,3], [-3,2], [-3,1], [-1,2], [0,2]])\n",
    "kmeans = KMeans(n_clusters = 5, init=good_init, n_init=1)\n",
    "y_pred = kmeans.fit_predict(X)\n",
    "kmeans.transform(X[:2])"
   ]
  },
  {
   "cell_type": "markdown",
   "metadata": {},
   "source": [
    "### Inertia performance measure"
   ]
  },
  {
   "cell_type": "code",
   "execution_count": 11,
   "metadata": {},
   "outputs": [
    {
     "data": {
      "text/plain": [
       "14.701112010796223"
      ]
     },
     "execution_count": 11,
     "metadata": {},
     "output_type": "execute_result"
    }
   ],
   "source": [
    "kmeans.inertia_"
   ]
  },
  {
   "cell_type": "code",
   "execution_count": 12,
   "metadata": {},
   "outputs": [
    {
     "data": {
      "text/plain": [
       "-14.701112010796226"
      ]
     },
     "execution_count": 12,
     "metadata": {},
     "output_type": "execute_result"
    }
   ],
   "source": [
    "kmeans.score(X)"
   ]
  },
  {
   "cell_type": "markdown",
   "metadata": {},
   "source": [
    "### Kmeans Mini-batching w/ memmap"
   ]
  },
  {
   "cell_type": "code",
   "execution_count": 13,
   "metadata": {},
   "outputs": [
    {
     "data": {
      "text/plain": [
       "MiniBatchKMeans(n_clusters=5)"
      ]
     },
     "execution_count": 13,
     "metadata": {},
     "output_type": "execute_result"
    }
   ],
   "source": [
    "from sklearn.cluster import MiniBatchKMeans\n",
    "\n",
    "#X_mm = np.memmap(filename, dtype=\"float32\", mode=\"readonly\", shape=(m,n))\n",
    "X_mm = X\n",
    "\n",
    "minibatch_kmeans = MiniBatchKMeans(n_clusters=5)\n",
    "minibatch_kmeans.fit(X_mm)"
   ]
  },
  {
   "cell_type": "markdown",
   "metadata": {},
   "source": [
    "### Choosing K order for a given dataset, the Inertia is not the good metrics to evaluate the best K"
   ]
  },
  {
   "cell_type": "code",
   "execution_count": 14,
   "metadata": {},
   "outputs": [
    {
     "data": {
      "text/plain": [
       "0.6011169787402741"
      ]
     },
     "execution_count": 14,
     "metadata": {},
     "output_type": "execute_result"
    }
   ],
   "source": [
    "from sklearn.metrics import silhouette_score\n",
    "\n",
    "silhouette_score(X, kmeans.labels_)"
   ]
  },
  {
   "cell_type": "markdown",
   "metadata": {},
   "source": [
    "## Clustering for image - Color segment for each pixel:"
   ]
  },
  {
   "cell_type": "code",
   "execution_count": 15,
   "metadata": {},
   "outputs": [
    {
     "ename": "FileNotFoundError",
     "evalue": "[Errno 2] No such file or directory: 'imaes\\\\unsupervised_learning\\\\ladybug.png'",
     "output_type": "error",
     "traceback": [
      "\u001b[1;31m---------------------------------------------------------------------------\u001b[0m",
      "\u001b[1;31mFileNotFoundError\u001b[0m                         Traceback (most recent call last)",
      "\u001b[1;32m<ipython-input-15-5002a3c5062e>\u001b[0m in \u001b[0;36m<module>\u001b[1;34m\u001b[0m\n\u001b[0;32m      1\u001b[0m \u001b[1;32mfrom\u001b[0m \u001b[0mmatplotlib\u001b[0m\u001b[1;33m.\u001b[0m\u001b[0mimage\u001b[0m \u001b[1;32mimport\u001b[0m \u001b[0mimread\u001b[0m\u001b[1;33m\u001b[0m\u001b[1;33m\u001b[0m\u001b[0m\n\u001b[0;32m      2\u001b[0m \u001b[1;33m\u001b[0m\u001b[0m\n\u001b[1;32m----> 3\u001b[1;33m \u001b[0mimage\u001b[0m \u001b[1;33m=\u001b[0m \u001b[0mimread\u001b[0m\u001b[1;33m(\u001b[0m\u001b[0mos\u001b[0m\u001b[1;33m.\u001b[0m\u001b[0mpath\u001b[0m\u001b[1;33m.\u001b[0m\u001b[0mjoin\u001b[0m\u001b[1;33m(\u001b[0m\u001b[1;34m\"imaes\"\u001b[0m\u001b[1;33m,\u001b[0m \u001b[1;34m\"unsupervised_learning\"\u001b[0m\u001b[1;33m,\u001b[0m \u001b[1;34m\"ladybug.png\"\u001b[0m\u001b[1;33m)\u001b[0m\u001b[1;33m)\u001b[0m\u001b[1;33m\u001b[0m\u001b[1;33m\u001b[0m\u001b[0m\n\u001b[0m\u001b[0;32m      4\u001b[0m \u001b[0mimage\u001b[0m\u001b[1;33m.\u001b[0m\u001b[0mshape\u001b[0m\u001b[1;33m\u001b[0m\u001b[1;33m\u001b[0m\u001b[0m\n",
      "\u001b[1;32m~AppData\\Local\\conda\\conda\\envs\\deeplearnEnv\\lib\\site-packages\\matplotlib\\image.py\u001b[0m in \u001b[0;36mimread\u001b[1;34m(fname, format)\u001b[0m\n\u001b[0;32m   1472\u001b[0m             \u001b[0mfd\u001b[0m \u001b[1;33m=\u001b[0m \u001b[0mBytesIO\u001b[0m\u001b[1;33m(\u001b[0m\u001b[0mrequest\u001b[0m\u001b[1;33m.\u001b[0m\u001b[0murlopen\u001b[0m\u001b[1;33m(\u001b[0m\u001b[0mfname\u001b[0m\u001b[1;33m)\u001b[0m\u001b[1;33m.\u001b[0m\u001b[0mread\u001b[0m\u001b[1;33m(\u001b[0m\u001b[1;33m)\u001b[0m\u001b[1;33m)\u001b[0m\u001b[1;33m\u001b[0m\u001b[1;33m\u001b[0m\u001b[0m\n\u001b[0;32m   1473\u001b[0m             \u001b[1;32mreturn\u001b[0m \u001b[0m_png\u001b[0m\u001b[1;33m.\u001b[0m\u001b[0mread_png\u001b[0m\u001b[1;33m(\u001b[0m\u001b[0mfd\u001b[0m\u001b[1;33m)\u001b[0m\u001b[1;33m\u001b[0m\u001b[1;33m\u001b[0m\u001b[0m\n\u001b[1;32m-> 1474\u001b[1;33m     \u001b[1;32mwith\u001b[0m \u001b[0mcbook\u001b[0m\u001b[1;33m.\u001b[0m\u001b[0mopen_file_cm\u001b[0m\u001b[1;33m(\u001b[0m\u001b[0mfname\u001b[0m\u001b[1;33m,\u001b[0m \u001b[1;34m\"rb\"\u001b[0m\u001b[1;33m)\u001b[0m \u001b[1;32mas\u001b[0m \u001b[0mfile\u001b[0m\u001b[1;33m:\u001b[0m\u001b[1;33m\u001b[0m\u001b[1;33m\u001b[0m\u001b[0m\n\u001b[0m\u001b[0;32m   1475\u001b[0m         \u001b[1;32mreturn\u001b[0m \u001b[0m_png\u001b[0m\u001b[1;33m.\u001b[0m\u001b[0mread_png\u001b[0m\u001b[1;33m(\u001b[0m\u001b[0mfile\u001b[0m\u001b[1;33m)\u001b[0m\u001b[1;33m\u001b[0m\u001b[1;33m\u001b[0m\u001b[0m\n\u001b[0;32m   1476\u001b[0m \u001b[1;33m\u001b[0m\u001b[0m\n",
      "\u001b[1;32m~AppData\\Local\\conda\\conda\\envs\\deeplearnEnv\\lib\\contextlib.py\u001b[0m in \u001b[0;36m__enter__\u001b[1;34m(self)\u001b[0m\n\u001b[0;32m     79\u001b[0m     \u001b[1;32mdef\u001b[0m \u001b[0m__enter__\u001b[0m\u001b[1;33m(\u001b[0m\u001b[0mself\u001b[0m\u001b[1;33m)\u001b[0m\u001b[1;33m:\u001b[0m\u001b[1;33m\u001b[0m\u001b[1;33m\u001b[0m\u001b[0m\n\u001b[0;32m     80\u001b[0m         \u001b[1;32mtry\u001b[0m\u001b[1;33m:\u001b[0m\u001b[1;33m\u001b[0m\u001b[1;33m\u001b[0m\u001b[0m\n\u001b[1;32m---> 81\u001b[1;33m             \u001b[1;32mreturn\u001b[0m \u001b[0mnext\u001b[0m\u001b[1;33m(\u001b[0m\u001b[0mself\u001b[0m\u001b[1;33m.\u001b[0m\u001b[0mgen\u001b[0m\u001b[1;33m)\u001b[0m\u001b[1;33m\u001b[0m\u001b[1;33m\u001b[0m\u001b[0m\n\u001b[0m\u001b[0;32m     82\u001b[0m         \u001b[1;32mexcept\u001b[0m \u001b[0mStopIteration\u001b[0m\u001b[1;33m:\u001b[0m\u001b[1;33m\u001b[0m\u001b[1;33m\u001b[0m\u001b[0m\n\u001b[0;32m     83\u001b[0m             \u001b[1;32mraise\u001b[0m \u001b[0mRuntimeError\u001b[0m\u001b[1;33m(\u001b[0m\u001b[1;34m\"generator didn't yield\"\u001b[0m\u001b[1;33m)\u001b[0m \u001b[1;32mfrom\u001b[0m \u001b[1;32mNone\u001b[0m\u001b[1;33m\u001b[0m\u001b[1;33m\u001b[0m\u001b[0m\n",
      "\u001b[1;32m~AppData\\Local\\conda\\conda\\envs\\deeplearnEnv\\lib\\site-packages\\matplotlib\\cbook\\__init__.py\u001b[0m in \u001b[0;36mopen_file_cm\u001b[1;34m(path_or_file, mode, encoding)\u001b[0m\n\u001b[0;32m    416\u001b[0m \u001b[1;32mdef\u001b[0m \u001b[0mopen_file_cm\u001b[0m\u001b[1;33m(\u001b[0m\u001b[0mpath_or_file\u001b[0m\u001b[1;33m,\u001b[0m \u001b[0mmode\u001b[0m\u001b[1;33m=\u001b[0m\u001b[1;34m\"r\"\u001b[0m\u001b[1;33m,\u001b[0m \u001b[0mencoding\u001b[0m\u001b[1;33m=\u001b[0m\u001b[1;32mNone\u001b[0m\u001b[1;33m)\u001b[0m\u001b[1;33m:\u001b[0m\u001b[1;33m\u001b[0m\u001b[1;33m\u001b[0m\u001b[0m\n\u001b[0;32m    417\u001b[0m     \u001b[1;34mr\"\"\"Pass through file objects and context-manage `.PathLike`\\s.\"\"\"\u001b[0m\u001b[1;33m\u001b[0m\u001b[1;33m\u001b[0m\u001b[0m\n\u001b[1;32m--> 418\u001b[1;33m     \u001b[0mfh\u001b[0m\u001b[1;33m,\u001b[0m \u001b[0mopened\u001b[0m \u001b[1;33m=\u001b[0m \u001b[0mto_filehandle\u001b[0m\u001b[1;33m(\u001b[0m\u001b[0mpath_or_file\u001b[0m\u001b[1;33m,\u001b[0m \u001b[0mmode\u001b[0m\u001b[1;33m,\u001b[0m \u001b[1;32mTrue\u001b[0m\u001b[1;33m,\u001b[0m \u001b[0mencoding\u001b[0m\u001b[1;33m)\u001b[0m\u001b[1;33m\u001b[0m\u001b[1;33m\u001b[0m\u001b[0m\n\u001b[0m\u001b[0;32m    419\u001b[0m     \u001b[1;32mif\u001b[0m \u001b[0mopened\u001b[0m\u001b[1;33m:\u001b[0m\u001b[1;33m\u001b[0m\u001b[1;33m\u001b[0m\u001b[0m\n\u001b[0;32m    420\u001b[0m         \u001b[1;32mwith\u001b[0m \u001b[0mfh\u001b[0m\u001b[1;33m:\u001b[0m\u001b[1;33m\u001b[0m\u001b[1;33m\u001b[0m\u001b[0m\n",
      "\u001b[1;32m~AppData\\Local\\conda\\conda\\envs\\deeplearnEnv\\lib\\site-packages\\matplotlib\\cbook\\__init__.py\u001b[0m in \u001b[0;36mto_filehandle\u001b[1;34m(fname, flag, return_opened, encoding)\u001b[0m\n\u001b[0;32m    401\u001b[0m             \u001b[0mfh\u001b[0m \u001b[1;33m=\u001b[0m \u001b[0mbz2\u001b[0m\u001b[1;33m.\u001b[0m\u001b[0mBZ2File\u001b[0m\u001b[1;33m(\u001b[0m\u001b[0mfname\u001b[0m\u001b[1;33m,\u001b[0m \u001b[0mflag\u001b[0m\u001b[1;33m)\u001b[0m\u001b[1;33m\u001b[0m\u001b[1;33m\u001b[0m\u001b[0m\n\u001b[0;32m    402\u001b[0m         \u001b[1;32melse\u001b[0m\u001b[1;33m:\u001b[0m\u001b[1;33m\u001b[0m\u001b[1;33m\u001b[0m\u001b[0m\n\u001b[1;32m--> 403\u001b[1;33m             \u001b[0mfh\u001b[0m \u001b[1;33m=\u001b[0m \u001b[0mopen\u001b[0m\u001b[1;33m(\u001b[0m\u001b[0mfname\u001b[0m\u001b[1;33m,\u001b[0m \u001b[0mflag\u001b[0m\u001b[1;33m,\u001b[0m \u001b[0mencoding\u001b[0m\u001b[1;33m=\u001b[0m\u001b[0mencoding\u001b[0m\u001b[1;33m)\u001b[0m\u001b[1;33m\u001b[0m\u001b[1;33m\u001b[0m\u001b[0m\n\u001b[0m\u001b[0;32m    404\u001b[0m         \u001b[0mopened\u001b[0m \u001b[1;33m=\u001b[0m \u001b[1;32mTrue\u001b[0m\u001b[1;33m\u001b[0m\u001b[1;33m\u001b[0m\u001b[0m\n\u001b[0;32m    405\u001b[0m     \u001b[1;32melif\u001b[0m \u001b[0mhasattr\u001b[0m\u001b[1;33m(\u001b[0m\u001b[0mfname\u001b[0m\u001b[1;33m,\u001b[0m \u001b[1;34m'seek'\u001b[0m\u001b[1;33m)\u001b[0m\u001b[1;33m:\u001b[0m\u001b[1;33m\u001b[0m\u001b[1;33m\u001b[0m\u001b[0m\n",
      "\u001b[1;31mFileNotFoundError\u001b[0m: [Errno 2] No such file or directory: 'imaes\\\\unsupervised_learning\\\\ladybug.png'"
     ]
    }
   ],
   "source": [
    "from matplotlib.image import imread\n",
    "\n",
    "image = imread(os.path.join(\"imaes\", \"unsupervised_learning\", \"ladybug.png\"))\n",
    "image.shape\n",
    "\n",
    "x = image.reshape(-1,3)\n",
    "kmean = KMeans(n_Cluster=8).fit(X)\n",
    "segmented_img = kmeans.cluster_centers_[kmeans.labels_]\n",
    "segmented_img = segmented_img.reshape(image.shape)"
   ]
  },
  {
   "cell_type": "markdown",
   "metadata": {},
   "source": [
    "## Using clustering for Preprocessing"
   ]
  },
  {
   "cell_type": "code",
   "execution_count": 19,
   "metadata": {},
   "outputs": [],
   "source": [
    "from sklearn.datasets import load_digits\n",
    "\n",
    "digits = load_digits()\n",
    "X_digits = digits.data\n",
    "y_digits = digits.target"
   ]
  },
  {
   "cell_type": "code",
   "execution_count": 20,
   "metadata": {},
   "outputs": [],
   "source": [
    "from sklearn.model_selection import train_test_split\n",
    "\n",
    "X_train, X_test, y_train, y_test = train_test_split(X_digits, y_digits)"
   ]
  },
  {
   "cell_type": "code",
   "execution_count": 22,
   "metadata": {},
   "outputs": [
    {
     "name": "stderr",
     "output_type": "stream",
     "text": [
      "C:\\Users\\d12669\\AppData\\Local\\conda\\conda\\envs\\deeplearnEnv\\lib\\site-packages\\sklearn\\linear_model\\_logistic.py:762: ConvergenceWarning: lbfgs failed to converge (status=1):\n",
      "STOP: TOTAL NO. of ITERATIONS REACHED LIMIT.\n",
      "\n",
      "Increase the number of iterations (max_iter) or scale the data as shown in:\n",
      "    https://scikit-learn.org/stable/modules/preprocessing.html\n",
      "Please also refer to the documentation for alternative solver options:\n",
      "    https://scikit-learn.org/stable/modules/linear_model.html#logistic-regression\n",
      "  extra_warning_msg=_LOGISTIC_SOLVER_CONVERGENCE_MSG)\n"
     ]
    },
    {
     "data": {
      "text/plain": [
       "0.9733333333333334"
      ]
     },
     "execution_count": 22,
     "metadata": {},
     "output_type": "execute_result"
    }
   ],
   "source": [
    "from sklearn.linear_model import LogisticRegression\n",
    "\n",
    "log_reg = LogisticRegression()\n",
    "log_reg.fit(X_train, y_train)\n",
    "\n",
    "log_reg.score(X_test, y_test)"
   ]
  },
  {
   "cell_type": "code",
   "execution_count": 23,
   "metadata": {},
   "outputs": [
    {
     "name": "stderr",
     "output_type": "stream",
     "text": [
      "C:\\Users\\d12669\\AppData\\Local\\conda\\conda\\envs\\deeplearnEnv\\lib\\site-packages\\sklearn\\linear_model\\_logistic.py:762: ConvergenceWarning: lbfgs failed to converge (status=1):\n",
      "STOP: TOTAL NO. of ITERATIONS REACHED LIMIT.\n",
      "\n",
      "Increase the number of iterations (max_iter) or scale the data as shown in:\n",
      "    https://scikit-learn.org/stable/modules/preprocessing.html\n",
      "Please also refer to the documentation for alternative solver options:\n",
      "    https://scikit-learn.org/stable/modules/linear_model.html#logistic-regression\n",
      "  extra_warning_msg=_LOGISTIC_SOLVER_CONVERGENCE_MSG)\n"
     ]
    },
    {
     "data": {
      "text/plain": [
       "0.9777777777777777"
      ]
     },
     "execution_count": 23,
     "metadata": {},
     "output_type": "execute_result"
    }
   ],
   "source": [
    "from sklearn.pipeline import Pipeline\n",
    "\n",
    "pipeline = Pipeline([\n",
    "    (\"kmeans\", KMeans(n_clusters=50)),\n",
    "    (\"log_reg\", LogisticRegression())\n",
    "])\n",
    "\n",
    "pipeline.fit(X_train, y_train)\n",
    "\n",
    "pipeline.score(X_test, y_test)"
   ]
  },
  {
   "cell_type": "markdown",
   "metadata": {},
   "source": [
    "## DBSCAN"
   ]
  },
  {
   "cell_type": "code",
   "execution_count": 26,
   "metadata": {},
   "outputs": [
    {
     "data": {
      "text/plain": [
       "DBSCAN(eps=0.05)"
      ]
     },
     "execution_count": 26,
     "metadata": {},
     "output_type": "execute_result"
    }
   ],
   "source": [
    "from sklearn.cluster import DBSCAN\n",
    "from sklearn.datasets import make_moons\n",
    "\n",
    "X, y = make_moons(n_samples=1000, noise=0.05)\n",
    "dbscan = DBSCAN(eps=0.05, min_samples=5)\n",
    "dbscan.fit(X)"
   ]
  },
  {
   "cell_type": "code",
   "execution_count": 27,
   "metadata": {},
   "outputs": [
    {
     "data": {
      "text/plain": [
       "array([ 0,  1,  2,  3,  0,  1,  1,  1,  3,  4,  5,  3, -1,  3, -1,  6,  3,\n",
       "        1,  0,  4,  3,  3,  4,  1,  4,  3,  4,  1,  7,  3,  1,  6,  0,  3,\n",
       "        4,  7,  0,  1,  3,  0,  3,  8,  0,  5,  3,  3,  1,  3,  3,  0,  1,\n",
       "        1,  2,  4,  4,  0, -1,  6,  4,  1, -1,  0,  3,  0,  1,  3,  3, -1,\n",
       "        3,  0,  5,  0,  1,  9,  0,  1,  3,  8,  4,  0,  4,  6,  3,  4,  1,\n",
       "        1,  4, -1,  8,  3,  3,  4,  8,  3,  3,  0,  0,  3,  3,  5,  3,  0,\n",
       "        1,  4,  1,  2,  3, -1,  6, -1,  4,  3,  0,  1,  1,  1,  1,  8,  0,\n",
       "        3,  0,  0, -1,  1, -1,  6,  6,  7,  0,  6,  4,  1,  9,  4, -1,  0,\n",
       "        6,  3, -1, -1,  3,  3,  3,  3,  3,  3,  1,  4,  3,  1,  3, -1,  1,\n",
       "        6,  2,  3,  0,  1,  5, -1,  3,  1,  5,  3,  4,  3,  1,  5,  3,  7,\n",
       "        4,  1,  4,  0,  3,  3,  8,  0,  1,  5,  1,  4,  4,  3,  0,  3,  6,\n",
       "        3, -1,  1,  2,  3,  4,  0,  0,  8,  6,  4,  4,  0,  4,  3,  0,  8,\n",
       "        3,  6,  4, -1,  3,  3,  3,  3,  4,  3,  0,  0,  4,  2, -1,  0,  0,\n",
       "        3,  5,  4, -1,  3,  3,  4,  3,  6,  1,  4,  1,  6,  0,  3,  3,  3,\n",
       "        4,  4,  7,  4,  1,  4,  1,  1,  4,  4,  6,  4,  0,  3,  3,  5,  2,\n",
       "        0,  3, -1,  3,  3,  3,  8,  6, -1,  0,  1, -1,  4,  3,  3,  3,  4,\n",
       "        3,  3,  0,  4,  1,  0,  3,  6,  8,  5,  4,  3,  0,  0, -1,  4,  1,\n",
       "        0,  4,  3,  7,  0,  4,  4, -1,  3,  8, -1,  3,  8,  6,  4,  0,  2,\n",
       "        1,  4, -1,  1,  1,  0,  1,  1,  4,  1,  3,  4,  5,  6,  8,  7,  3,\n",
       "        0,  4,  3,  0,  0,  1,  3,  6,  8,  6,  3,  3,  3,  8,  3,  1,  4,\n",
       "        1,  3,  4, -1,  2,  7,  4,  1,  4,  1,  4,  5,  3,  4,  4, -1,  0,\n",
       "       -1,  6,  4,  5,  3,  3,  0,  3, -1,  0,  3,  3,  4,  8,  2,  3,  5,\n",
       "        3,  0,  1,  4,  4,  3,  2,  6,  5,  3,  1,  6,  1,  1,  5,  1,  7,\n",
       "        4,  5,  0,  2,  1,  4,  7,  6,  8,  4,  4,  1,  4,  4,  3, -1,  3,\n",
       "        3, -1,  8,  1,  3,  3,  1,  3,  0,  3,  1,  9,  1,  1,  3,  6,  1,\n",
       "        0,  4,  2,  5,  6,  4, -1,  5,  6,  8, -1,  6, -1,  7,  0,  4,  1,\n",
       "        0,  3,  2,  4,  3,  3,  4,  0,  1,  5,  4,  0,  4,  3,  3,  0,  4,\n",
       "        0, -1,  4, -1,  7,  0,  4,  9,  3,  3,  0,  4,  4,  8,  6,  3,  3,\n",
       "        4,  5,  0,  1, -1,  3,  3,  3,  3,  4,  3,  0,  3, -1,  1,  5,  3,\n",
       "        3, -1,  0,  6,  0,  6,  1,  6,  4,  7,  3,  4,  3,  3, -1,  6,  3,\n",
       "        3,  3,  1,  6,  1,  6, -1,  3,  3,  4,  3,  3,  4,  0,  3,  4,  4,\n",
       "        3,  3,  4,  1,  1,  3,  1,  0,  4, -1,  4,  3,  6,  3,  4,  4,  4,\n",
       "        4,  6,  8, -1,  6,  4,  7,  1,  1,  0,  1,  6, -1, -1,  7,  4,  2,\n",
       "        2,  4,  1,  3,  6,  6,  0,  3,  3,  5,  3,  3,  4,  1,  3,  4,  0,\n",
       "        1,  3,  3,  5,  3,  5,  5,  1,  5,  1,  4,  3,  2,  3,  3,  3,  1,\n",
       "        0, -1, -1,  8,  1,  3,  4,  0,  4,  8,  8,  1,  0,  4,  1,  8,  4,\n",
       "       -1,  3,  4, -1,  0,  1,  4,  4,  4,  4,  3, -1,  4,  4,  6,  0,  5,\n",
       "        0,  3,  1,  5,  3,  4,  3,  3,  6,  0,  6,  3,  4,  0,  5,  1,  8,\n",
       "        3,  8,  0,  8,  4,  4, -1, -1,  1,  4,  3,  0,  4,  1,  1,  3,  3,\n",
       "        6,  5,  0, -1,  6,  4,  0,  3,  9,  0,  1,  8,  4,  0,  1,  0,  1,\n",
       "        0,  1,  5,  1, -1,  8,  4,  3,  1, -1,  3, -1,  8, -1,  4,  1,  1,\n",
       "        4,  4,  0,  4,  4,  8,  1, -1,  0,  4,  5, -1,  2,  3,  3,  8,  4,\n",
       "        1,  3,  3,  6,  8,  0,  4,  4,  4,  3,  0,  4,  3,  1,  1,  0,  4,\n",
       "        6,  4,  3,  4,  4,  0,  4,  3,  3,  3,  7,  0,  4,  9,  3,  3,  3,\n",
       "        4,  3,  1,  3,  0,  3,  3,  3,  6,  4,  4,  4,  4,  6,  8,  3,  0,\n",
       "        4,  0,  6,  3,  1, -1,  4,  3,  4,  1,  3,  3,  4,  3,  0,  1,  8,\n",
       "        3,  1,  3,  0, -1,  1,  4,  4, -1,  8,  6,  0,  4,  4,  1,  3,  2,\n",
       "       -1,  0,  4,  1, -1,  6,  3,  3,  1, -1, -1,  4,  3,  3,  1,  3,  1,\n",
       "        0,  1,  2,  3,  3,  6,  1,  3,  0,  4,  1,  1,  3, -1,  3,  3,  4,\n",
       "        0,  0,  3,  3,  4,  6,  5,  8,  4,  6,  0,  8,  4,  0,  0,  2,  8,\n",
       "        6,  6,  2,  4,  3,  3,  5, -1,  6,  0,  0,  4,  3,  3,  4,  3,  0,\n",
       "        4,  1, -1,  4,  4,  7,  3, -1,  3,  4,  1,  8,  4,  3,  5,  5,  3,\n",
       "        1,  0,  3,  3,  0,  4,  4,  3,  3, -1,  4,  5,  1,  4,  3,  1,  5,\n",
       "        4,  3,  4,  4,  0,  8,  1,  1,  0,  3,  3,  7,  3,  0,  3,  0,  3,\n",
       "        0,  0,  3,  4,  3,  3,  5, -1,  3,  3,  3,  4,  5,  3,  1,  1,  3,\n",
       "        7,  1,  3,  0,  0,  6,  0,  6,  1,  7,  6,  6,  8,  3,  6,  0,  1,\n",
       "        3,  3,  1,  0,  0,  4,  3,  4,  4,  5,  4,  0,  4,  1,  7,  8,  8,\n",
       "        1,  4,  3,  4,  3,  4,  3,  4,  0,  3,  0,  0,  3,  4,  5,  3,  3,\n",
       "        5,  3,  3,  1,  8,  0,  6,  8,  3,  9,  4,  4,  4,  3],\n",
       "      dtype=int64)"
      ]
     },
     "execution_count": 27,
     "metadata": {},
     "output_type": "execute_result"
    }
   ],
   "source": [
    "dbscan.labels_"
   ]
  },
  {
   "cell_type": "code",
   "execution_count": 28,
   "metadata": {},
   "outputs": [
    {
     "data": {
      "text/plain": [
       "array([[ 0.77874447, -0.45220564],\n",
       "       [-0.17358935,  1.01387626],\n",
       "       [-0.00208964,  0.41547679],\n",
       "       ...,\n",
       "       [ 1.8135501 ,  0.05948812],\n",
       "       [ 1.91076856,  0.20284228],\n",
       "       [ 1.02259512,  0.29893665]])"
      ]
     },
     "execution_count": 28,
     "metadata": {},
     "output_type": "execute_result"
    }
   ],
   "source": [
    "dbscan.components_"
   ]
  },
  {
   "cell_type": "raw",
   "metadata": {},
   "source": []
  },
  {
   "cell_type": "markdown",
   "metadata": {},
   "source": [
    "### DBSCAN dos not have predict() function so:"
   ]
  },
  {
   "cell_type": "code",
   "execution_count": 29,
   "metadata": {},
   "outputs": [
    {
     "data": {
      "text/plain": [
       "KNeighborsClassifier(n_neighbors=50)"
      ]
     },
     "execution_count": 29,
     "metadata": {},
     "output_type": "execute_result"
    }
   ],
   "source": [
    "from sklearn.neighbors import KNeighborsClassifier\n",
    "\n",
    "knn = KNeighborsClassifier(n_neighbors=50)\n",
    "knn.fit(dbscan.components_, dbscan.labels_[dbscan.core_sample_indices_])"
   ]
  },
  {
   "cell_type": "code",
   "execution_count": 31,
   "metadata": {},
   "outputs": [
    {
     "data": {
      "text/plain": [
       "array([8, 5, 3, 4], dtype=int64)"
      ]
     },
     "execution_count": 31,
     "metadata": {},
     "output_type": "execute_result"
    }
   ],
   "source": [
    "X_new = np.array([[-0.5, 0], [0, 0.5], [1, -0.1], [2, 1]])\n",
    "knn.predict(X_new)"
   ]
  },
  {
   "cell_type": "code",
   "execution_count": 32,
   "metadata": {},
   "outputs": [
    {
     "data": {
      "text/plain": [
       "array([[0.  , 0.02, 0.  , 0.  , 0.  , 0.18, 0.  , 0.3 , 0.5 , 0.  ],\n",
       "       [0.  , 0.  , 0.38, 0.  , 0.  , 0.52, 0.  , 0.  , 0.  , 0.1 ],\n",
       "       [0.02, 0.  , 0.  , 0.68, 0.  , 0.  , 0.3 , 0.  , 0.  , 0.  ],\n",
       "       [0.  , 0.  , 0.  , 0.  , 1.  , 0.  , 0.  , 0.  , 0.  , 0.  ]])"
      ]
     },
     "execution_count": 32,
     "metadata": {},
     "output_type": "execute_result"
    }
   ],
   "source": [
    "knn.predict_proba(X_new)"
   ]
  },
  {
   "cell_type": "code",
   "execution_count": null,
   "metadata": {},
   "outputs": [],
   "source": []
  }
 ],
 "metadata": {
  "kernelspec": {
   "display_name": "Python (deeplearnEnv)",
   "language": "python",
   "name": "deeplearnenv"
  },
  "language_info": {
   "codemirror_mode": {
    "name": "ipython",
    "version": 3
   },
   "file_extension": ".py",
   "mimetype": "text/x-python",
   "name": "python",
   "nbconvert_exporter": "python",
   "pygments_lexer": "ipython3",
   "version": "3.6.7"
  }
 },
 "nbformat": 4,
 "nbformat_minor": 2
}
